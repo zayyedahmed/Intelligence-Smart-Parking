{
 "cells": [
  {
   "cell_type": "code",
   "execution_count": null,
   "id": "9a6ad333-56c8-40a8-9789-a0f5e86dfddc",
   "metadata": {},
   "outputs": [],
   "source": [
    "from PIL.Image import ImageTransformHandler\n",
    "import cv2\n",
    "import numpy as np\n",
    "import pytesseract\n",
    "\n",
    "pytesseract.pytesseract.tesseract_cmd = r'C:\\Program Files\\Tesseract-OCR\\tesseract.exe'\n",
    "\n",
    "cascade= cv2.CascadeClassifier(\"haarcascade_russian_plate_number.xml\")\n",
    "\n",
    "def extract_num(img_filename):\n",
    "    img=cv2.imread(img_filename)\n",
    "    img=cv2.resize(img, None, fx=0.5, fy=0.5)\n",
    "    #Img To Gray\n",
    "    gray=cv2.cvtColor(img,cv2.COLOR_BGR2GRAY)\n",
    "    nplate=cascade.detectMultiScale(gray,1.1,4)\n",
    "    #crop portion\n",
    "    for (x,y,w,h) in nplate:\n",
    "        wT,hT,cT=img.shape\n",
    "        a,b=(int(0.02*wT),int(0.02*hT))\n",
    "        plate=img[y+a:y+h-a,x+b:x+w-b,:]\n",
    "        #make the img more darker to identify LPR\n",
    "        kernel=np.ones((1,1),np.uint8)\n",
    "        plate=cv2.dilate(plate,kernel,iterations=1)\n",
    "        plate=cv2.erode(plate,kernel,iterations=1)\n",
    "        plate_gray=cv2.cvtColor(plate,cv2.COLOR_BGR2GRAY)\n",
    "        (thresh,plate)=cv2.threshold(plate_gray,127,255,cv2.THRESH_BINARY)\n",
    "        #read the text on the plate\n",
    "        read=pytesseract.image_to_string(plate)\n",
    "        read=''.join(e for e in read if e.isalnum())\n",
    "        stat=read[0:2]\n",
    "        cv2.rectangle(img,(x,y),(x+w,y+h),(51,51,255),2)\n",
    "        cv2.rectangle(img,(x-1,y-40),(x+w+1,y),(51,51,255),-1)\n",
    "        cv2.putText(img,read,(x,y-10),cv2.FONT_HERSHEY_SIMPLEX,0.9,(255,255,255),2)\n",
    "\n",
    "        cv2.imshow(\"plate\",plate)\n",
    "        \n",
    "    cv2.imwrite(\"Result.png\",img)\n",
    "    cv2.imshow(\"Result\",img)\n",
    "    if cv2.waitKey(0)==113:\n",
    "        exit()\n",
    "    cv2.destroyAllWindows()\n",
    "\n",
    "extract_num(\"tryu.jpg\")"
   ]
  },
  {
   "cell_type": "code",
   "execution_count": null,
   "id": "75360aaa-ccc8-435a-8e4e-7e4ef923be44",
   "metadata": {},
   "outputs": [],
   "source": []
  }
 ],
 "metadata": {
  "kernelspec": {
   "display_name": "Python 3 (ipykernel)",
   "language": "python",
   "name": "python3"
  },
  "language_info": {
   "codemirror_mode": {
    "name": "ipython",
    "version": 3
   },
   "file_extension": ".py",
   "mimetype": "text/x-python",
   "name": "python",
   "nbconvert_exporter": "python",
   "pygments_lexer": "ipython3",
   "version": "3.9.6"
  }
 },
 "nbformat": 4,
 "nbformat_minor": 5
}
